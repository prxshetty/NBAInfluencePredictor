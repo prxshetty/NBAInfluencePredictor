{
 "cells": [
  {
   "cell_type": "code",
   "execution_count": 1,
   "id": "a549a58a-f338-4530-ad24-75fd5d770572",
   "metadata": {},
   "outputs": [],
   "source": [
    "import pandas as pd\n",
    "import statsmodels.api as sm\n",
    "import statsmodels.formula.api as smf\n",
    "import matplotlib.pyplot as plt\n",
    "import seaborn as sns\n",
    "color=sns.color_palette()\n",
    "%matplotlib inline"
   ]
  },
  {
   "cell_type": "code",
   "execution_count": null,
   "id": "5e92d0f9-2836-4c72-9b90-3380dec66ed4",
   "metadata": {},
   "outputs": [],
   "source": [
    "attendance_df=pd.read_csv()\n",
    "endorsement_df=pd.read_csv()\n",
    "valuations_df=pd.read_csv()\n",
    "salary_df=pd.read_csv()\n",
    "pie_df=pd.read_csv()\n",
    "plus_minus_df=pd.read_csv()\n",
    "br_stats_df=pd.read_csv()\n",
    "elo_df=pd.read_csv()"
   ]
  },
  {
   "cell_type": "code",
   "execution_count": null,
   "id": "9dd9ea0d-53ac-4066-a251-a6a16213b44b",
   "metadata": {},
   "outputs": [],
   "source": [
    "attendance_df.head()"
   ]
  },
  {
   "cell_type": "code",
   "execution_count": null,
   "id": "4d0584a6-e017-47d6-b33d-58e944714376",
   "metadata": {},
   "outputs": [],
   "source": [
    "endorsement_df.head()"
   ]
  },
  {
   "cell_type": "code",
   "execution_count": null,
   "id": "11dc4528-4a5e-46e0-a004-9ff97f439b05",
   "metadata": {},
   "outputs": [],
   "source": [
    "valuations_df.head()"
   ]
  },
  {
   "cell_type": "code",
   "execution_count": null,
   "id": "c15a7c90-dad5-41f5-a499-291af6e0b91c",
   "metadata": {},
   "outputs": [],
   "source": [
    "salary_df.head()"
   ]
  },
  {
   "cell_type": "code",
   "execution_count": null,
   "id": "d60fd306-a8dd-4328-835d-229c1e340ce8",
   "metadata": {},
   "outputs": [],
   "source": [
    "pie_df.head()"
   ]
  },
  {
   "cell_type": "code",
   "execution_count": null,
   "id": "a1970a48-245a-4ccf-9b46-6a7e9365d05a",
   "metadata": {},
   "outputs": [],
   "source": [
    "plus_minus_df.head()"
   ]
  },
  {
   "cell_type": "code",
   "execution_count": null,
   "id": "1547c912-7801-40a0-aaff-8722fda507b5",
   "metadata": {},
   "outputs": [],
   "source": [
    "br_stats_df.head()"
   ]
  },
  {
   "cell_type": "code",
   "execution_count": null,
   "id": "fdc5e01f-4185-4b3f-a8f3-19ec1a8f5f70",
   "metadata": {},
   "outputs": [],
   "source": [
    "elo_df.head()"
   ]
  },
  {
   "cell_type": "code",
   "execution_count": null,
   "id": "7e5fbef8-aee3-4353-87da-aaa61722a7e1",
   "metadata": {},
   "outputs": [],
   "source": [
    "attendance_valuation_df=attendance_df.merge(valuations_df, how=\"inner\", on=\"TEAM\")"
   ]
  },
  {
   "cell_type": "code",
   "execution_count": null,
   "id": "7dea5311-fdfb-45d5-8569-1f784ef4603f",
   "metadata": {},
   "outputs": [],
   "source": [
    "attendance_valuation_df.head()"
   ]
  },
  {
   "cell_type": "code",
   "execution_count": null,
   "id": "fa661f8b-035b-4937-a38f-d686f60f616e",
   "metadata": {},
   "outputs": [],
   "source": []
  }
 ],
 "metadata": {
  "kernelspec": {
   "display_name": "Python 3 (ipykernel)",
   "language": "python",
   "name": "python3"
  },
  "language_info": {
   "codemirror_mode": {
    "name": "ipython",
    "version": 3
   },
   "file_extension": ".py",
   "mimetype": "text/x-python",
   "name": "python",
   "nbconvert_exporter": "python",
   "pygments_lexer": "ipython3",
   "version": "3.11.7"
  }
 },
 "nbformat": 4,
 "nbformat_minor": 5
}
